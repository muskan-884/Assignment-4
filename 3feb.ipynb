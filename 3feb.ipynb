{
 "cells": [
  {
   "cell_type": "code",
   "execution_count": 12,
   "id": "25f36f67-7582-49f8-aa78-8032af609fd8",
   "metadata": {},
   "outputs": [],
   "source": [
    "\"Q1. Which keyword is used to create a function? Create a function to return a list of odd numbers in the range of 1 to 25.\"\n",
    "The \"def\" keyword is used to create, (or define) a function.\n",
    "Function blocks begin with the keyword def followed by the function name and parentheses ( ( ) ).\n",
    "\n",
    "l=list(range(1,25))\n",
    "l1=[]\n",
    "def odd(l):\n",
    "    for i in l:\n",
    "        if i%2!=0:\n",
    "            l1.append(i)\n",
    "    return l1"
   ]
  },
  {
   "cell_type": "code",
   "execution_count": 13,
   "id": "e22d2be3-694f-4d81-905d-ab9641947d99",
   "metadata": {},
   "outputs": [
    {
     "data": {
      "text/plain": [
       "[1, 3, 5, 7, 9, 11, 13, 15, 17, 19, 21, 23]"
      ]
     },
     "execution_count": 13,
     "metadata": {},
     "output_type": "execute_result"
    }
   ],
   "source": [
    "odd(l)"
   ]
  },
  {
   "cell_type": "code",
   "execution_count": 25,
   "id": "eeaa6e4a-af29-4db4-8686-aeec82d5f5e0",
   "metadata": {},
   "outputs": [],
   "source": [
    "\"Q2. Why *args and **kwargs is used in some functions? Create a function each for *args and **kwargs to demonstrate their use.\"\n",
    "Python \"*args\"\n",
    "Python has *args which allow us to pass the variable number of non keyword arguments to function.\n",
    "In the function, we should use an asterisk * before the parameter name to pass variable length arguments.\n",
    "The arguments are passed as a tuple and these passed arguments make tuple inside\n",
    "the function with same name as the parameter excluding asterisk *.\n"
   ]
  },
  {
   "cell_type": "code",
   "execution_count": 28,
   "id": "8c1ee505-b25b-4c40-abad-b06927e1a3b2",
   "metadata": {},
   "outputs": [],
   "source": [
    "def add(*args):\n",
    "    s=0\n",
    "    for i in args:\n",
    "        s=s+i\n",
    "    return s"
   ]
  },
  {
   "cell_type": "code",
   "execution_count": 29,
   "id": "d5676fdf-b5e8-44fc-b64f-26aa8751fe73",
   "metadata": {},
   "outputs": [
    {
     "data": {
      "text/plain": [
       "3"
      ]
     },
     "execution_count": 29,
     "metadata": {},
     "output_type": "execute_result"
    }
   ],
   "source": [
    "add(3)"
   ]
  },
  {
   "cell_type": "code",
   "execution_count": 31,
   "id": "8d80e489-8bb7-4c7e-8e44-f085f632b21e",
   "metadata": {},
   "outputs": [
    {
     "data": {
      "text/plain": [
       "15"
      ]
     },
     "execution_count": 31,
     "metadata": {},
     "output_type": "execute_result"
    }
   ],
   "source": [
    "add(4,5,6)"
   ]
  },
  {
   "cell_type": "code",
   "execution_count": 32,
   "id": "3e37b2e6-b851-4d56-a497-ee7f0877f97c",
   "metadata": {},
   "outputs": [],
   "source": [
    "Python **kwargs\n",
    "Python passes variable length non keyword argument to function using *args but we cannot use this to pass keyword argument.\n",
    "For this problem Python has got a solution called **kwargs, it allows us to pass the variable length of keyword arguments to the function.\n",
    "In the function, we use the double asterisk ** before the parameter name to denote this type of argument. \n",
    "The arguments are passed as a dictionary and these arguments make a dictionary inside function with name same as the parameter excluding double asterisk **."
   ]
  },
  {
   "cell_type": "code",
   "execution_count": 53,
   "id": "dd3fe72b-92f9-49ad-a09d-3e2ce5e9b735",
   "metadata": {},
   "outputs": [],
   "source": [
    "def muski(**kwargs):\n",
    "    \n",
    "     return kwargs.items(),kwargs.keys(),kwargs.values()"
   ]
  },
  {
   "cell_type": "code",
   "execution_count": 54,
   "id": "60ab8c28-409d-4c69-8b38-ebe32100c142",
   "metadata": {},
   "outputs": [
    {
     "data": {
      "text/plain": [
       "(dict_items([('a', ['a']), ('aa', 'b'), ('bb', 'c'), ('cc', 154), ('dd', (9+8j))]),\n",
       " dict_keys(['a', 'aa', 'bb', 'cc', 'dd']),\n",
       " dict_values([['a'], 'b', 'c', 154, (9+8j)]))"
      ]
     },
     "execution_count": 54,
     "metadata": {},
     "output_type": "execute_result"
    }
   ],
   "source": [
    "muski(a=['a'],aa='b',bb='c',cc=154,dd=9+8j)"
   ]
  },
  {
   "cell_type": "code",
   "execution_count": null,
   "id": "9d748352-6569-4710-87ad-8896345636d4",
   "metadata": {},
   "outputs": [],
   "source": [
    "Q3. What is an iterator in python? Name the method used to initialise the iterator object and the method\n",
    "used for iteration. Use these methods to print the first five elements of the\n",
    "given list [2, 4, 6, 8, 10, 12, 14,16, 18, 20]."
   ]
  },
  {
   "cell_type": "code",
   "execution_count": 56,
   "id": "e4577600-14c1-408f-8cf6-71d7965674db",
   "metadata": {},
   "outputs": [],
   "source": [
    "Iterator in Python is an object that is used to iterate over iterable objects like lists, tuples,\n",
    "dicts, and sets.\n",
    "The iterator object is initialized using the iter() method. It uses the next() method for\n",
    "iteration.\n"
   ]
  },
  {
   "cell_type": "code",
   "execution_count": 57,
   "id": "f1464fbc-d92a-4eb9-b010-452cf091cf0f",
   "metadata": {},
   "outputs": [],
   "source": [
    "l= [2, 4, 6, 8, 10, 12, 14,16, 18, 20]\n",
    "l1=iter(l)"
   ]
  },
  {
   "cell_type": "code",
   "execution_count": 61,
   "id": "7afd60d0-babd-40ec-a10c-22deecbff003",
   "metadata": {},
   "outputs": [
    {
     "data": {
      "text/plain": [
       "2"
      ]
     },
     "execution_count": 61,
     "metadata": {},
     "output_type": "execute_result"
    }
   ],
   "source": [
    "next(l1)"
   ]
  },
  {
   "cell_type": "code",
   "execution_count": 62,
   "id": "f79bbcd9-7c38-473d-842e-c44ee8eec384",
   "metadata": {},
   "outputs": [
    {
     "data": {
      "text/plain": [
       "4"
      ]
     },
     "execution_count": 62,
     "metadata": {},
     "output_type": "execute_result"
    }
   ],
   "source": [
    "next(l1)"
   ]
  },
  {
   "cell_type": "code",
   "execution_count": 63,
   "id": "a2e1d3c6-638d-4219-98a9-fa6e59752669",
   "metadata": {},
   "outputs": [
    {
     "data": {
      "text/plain": [
       "6"
      ]
     },
     "execution_count": 63,
     "metadata": {},
     "output_type": "execute_result"
    }
   ],
   "source": [
    "next(l1)"
   ]
  },
  {
   "cell_type": "code",
   "execution_count": 64,
   "id": "89ade434-3146-4206-a781-6e10f2c6b7bc",
   "metadata": {},
   "outputs": [
    {
     "data": {
      "text/plain": [
       "8"
      ]
     },
     "execution_count": 64,
     "metadata": {},
     "output_type": "execute_result"
    }
   ],
   "source": [
    "next(l1)"
   ]
  },
  {
   "cell_type": "code",
   "execution_count": 65,
   "id": "28568e41-c1c3-47df-b6a2-d8797268ff51",
   "metadata": {},
   "outputs": [
    {
     "data": {
      "text/plain": [
       "10"
      ]
     },
     "execution_count": 65,
     "metadata": {},
     "output_type": "execute_result"
    }
   ],
   "source": [
    "next(l1)"
   ]
  },
  {
   "cell_type": "code",
   "execution_count": 67,
   "id": "5ba4d00d-5634-4888-a978-766ec765e9a5",
   "metadata": {},
   "outputs": [],
   "source": [
    "Q4. What is a generator function in python? Why yield keyword is used? Give an example of a generator\n",
    "function.\n"
   ]
  },
  {
   "cell_type": "code",
   "execution_count": 69,
   "id": "b5791459-74f7-46cb-9d8b-782ff6db5f75",
   "metadata": {},
   "outputs": [],
   "source": [
    "Generator-Function: A generator-function is defined like a normal function, but whenever it needs to generate a value, it does so with the yield keyword rather than return. \n",
    "If the body of a def contains yield, the function automatically becomes a generator function. \n",
    "Python Generator functions allows us to declare a function that behaves likes an iterator,\n",
    "allowing programmers to make an iterator in a fast, easy, and clean way. An iterator is an\n",
    "object that can be iterated or looped upon. It is used to abstract a container of data to make\n",
    "it behave like an iterable object. Examples of iterable objects that are used more commonly\n",
    "include lists, dictionaries, and strings.\n",
    "Yield keyword is used to create a generator function. A type of function that is memory\n",
    "efficient and can be used like an iterator object."
   ]
  },
  {
   "cell_type": "code",
   "execution_count": 70,
   "id": "8ed16ba4-7477-41db-a507-8774866b8d47",
   "metadata": {},
   "outputs": [],
   "source": [
    "def test_sum(num):\n",
    "    num=1\n",
    "    while num<100:\n",
    "        yield num\n",
    "        num=num+1\n",
    "    \n",
    "    "
   ]
  },
  {
   "cell_type": "code",
   "execution_count": 74,
   "id": "1eddf001-944f-45ea-8d8f-d028f8b793ff",
   "metadata": {},
   "outputs": [
    {
     "name": "stdout",
     "output_type": "stream",
     "text": [
      "1\n",
      "2\n",
      "3\n",
      "4\n",
      "5\n",
      "6\n",
      "7\n",
      "8\n",
      "9\n",
      "10\n",
      "11\n",
      "12\n",
      "13\n",
      "14\n",
      "15\n",
      "16\n",
      "17\n",
      "18\n",
      "19\n",
      "20\n",
      "21\n",
      "22\n",
      "23\n",
      "24\n",
      "25\n",
      "26\n",
      "27\n",
      "28\n",
      "29\n",
      "30\n",
      "31\n",
      "32\n",
      "33\n",
      "34\n",
      "35\n",
      "36\n",
      "37\n",
      "38\n",
      "39\n",
      "40\n",
      "41\n",
      "42\n",
      "43\n",
      "44\n",
      "45\n",
      "46\n",
      "47\n",
      "48\n",
      "49\n",
      "50\n",
      "51\n",
      "52\n",
      "53\n",
      "54\n",
      "55\n",
      "56\n",
      "57\n",
      "58\n",
      "59\n",
      "60\n",
      "61\n",
      "62\n",
      "63\n",
      "64\n",
      "65\n",
      "66\n",
      "67\n",
      "68\n",
      "69\n",
      "70\n",
      "71\n",
      "72\n",
      "73\n",
      "74\n",
      "75\n",
      "76\n",
      "77\n",
      "78\n",
      "79\n",
      "80\n",
      "81\n",
      "82\n",
      "83\n",
      "84\n",
      "85\n",
      "86\n",
      "87\n",
      "88\n",
      "89\n",
      "90\n",
      "91\n",
      "92\n",
      "93\n",
      "94\n",
      "95\n",
      "96\n",
      "97\n",
      "98\n",
      "99\n"
     ]
    }
   ],
   "source": [
    "for i in test_sum(60):\n",
    "    print(i)"
   ]
  },
  {
   "cell_type": "code",
   "execution_count": 76,
   "id": "75136910-7865-4f55-8c89-f36b2412ee2a",
   "metadata": {},
   "outputs": [],
   "source": [
    "x=test_sum(10)"
   ]
  },
  {
   "cell_type": "code",
   "execution_count": 77,
   "id": "7f38b616-c149-4e81-a63c-712291073880",
   "metadata": {},
   "outputs": [
    {
     "data": {
      "text/plain": [
       "1"
      ]
     },
     "execution_count": 77,
     "metadata": {},
     "output_type": "execute_result"
    }
   ],
   "source": [
    "next(x)"
   ]
  },
  {
   "cell_type": "code",
   "execution_count": 78,
   "id": "9f5dee2c-8f2e-4aec-9043-c4f1ffbc687f",
   "metadata": {},
   "outputs": [
    {
     "data": {
      "text/plain": [
       "2"
      ]
     },
     "execution_count": 78,
     "metadata": {},
     "output_type": "execute_result"
    }
   ],
   "source": [
    "next(x)"
   ]
  },
  {
   "cell_type": "code",
   "execution_count": 79,
   "id": "717790c5-01c2-493f-ac6b-f220a730eea6",
   "metadata": {},
   "outputs": [
    {
     "data": {
      "text/plain": [
       "3"
      ]
     },
     "execution_count": 79,
     "metadata": {},
     "output_type": "execute_result"
    }
   ],
   "source": [
    "next(x)"
   ]
  },
  {
   "cell_type": "code",
   "execution_count": 80,
   "id": "4f88d3df-18ed-44ef-9b28-10fd3794388c",
   "metadata": {},
   "outputs": [
    {
     "data": {
      "text/plain": [
       "4"
      ]
     },
     "execution_count": 80,
     "metadata": {},
     "output_type": "execute_result"
    }
   ],
   "source": [
    "next(x)"
   ]
  },
  {
   "cell_type": "code",
   "execution_count": 81,
   "id": "0ef53290-f52b-4070-a6ea-19650af53c0d",
   "metadata": {},
   "outputs": [
    {
     "data": {
      "text/plain": [
       "5"
      ]
     },
     "execution_count": 81,
     "metadata": {},
     "output_type": "execute_result"
    }
   ],
   "source": [
    "next(x)"
   ]
  },
  {
   "cell_type": "code",
   "execution_count": 82,
   "id": "bb638d5b-890e-41ef-8588-6f086090cc6c",
   "metadata": {},
   "outputs": [
    {
     "data": {
      "text/plain": [
       "6"
      ]
     },
     "execution_count": 82,
     "metadata": {},
     "output_type": "execute_result"
    }
   ],
   "source": [
    "next(x)"
   ]
  },
  {
   "cell_type": "code",
   "execution_count": 83,
   "id": "84472ce7-a254-4495-9734-9d82529660ca",
   "metadata": {},
   "outputs": [
    {
     "data": {
      "text/plain": [
       "7"
      ]
     },
     "execution_count": 83,
     "metadata": {},
     "output_type": "execute_result"
    }
   ],
   "source": [
    "next(x)"
   ]
  },
  {
   "cell_type": "code",
   "execution_count": 84,
   "id": "c0f99ccf-71f9-4b67-b638-efa2702bff2c",
   "metadata": {},
   "outputs": [
    {
     "data": {
      "text/plain": [
       "8"
      ]
     },
     "execution_count": 84,
     "metadata": {},
     "output_type": "execute_result"
    }
   ],
   "source": [
    "next(x)"
   ]
  },
  {
   "cell_type": "code",
   "execution_count": 85,
   "id": "19d43c5a-358e-4bf0-a5eb-6f525a75726d",
   "metadata": {},
   "outputs": [
    {
     "data": {
      "text/plain": [
       "9"
      ]
     },
     "execution_count": 85,
     "metadata": {},
     "output_type": "execute_result"
    }
   ],
   "source": [
    "next(x)"
   ]
  },
  {
   "cell_type": "code",
   "execution_count": 86,
   "id": "4f8e95d7-a67e-4d8f-bc3e-77303f63f7d5",
   "metadata": {},
   "outputs": [
    {
     "data": {
      "text/plain": [
       "10"
      ]
     },
     "execution_count": 86,
     "metadata": {},
     "output_type": "execute_result"
    }
   ],
   "source": [
    "next(x)"
   ]
  },
  {
   "cell_type": "code",
   "execution_count": 115,
   "id": "25b30ef1-710f-42ba-8e1c-087f2dd12a63",
   "metadata": {},
   "outputs": [],
   "source": [
    "Q5. Create a generator function for prime numbers less than 1000. Use the next() method to print the\n",
    "first 20 prime numbers."
   ]
  },
  {
   "cell_type": "code",
   "execution_count": null,
   "id": "03a3bd8b-424b-4b31-8e69-56e955836859",
   "metadata": {},
   "outputs": [
    {
     "name": "stdout",
     "output_type": "stream",
     "text": [
      "1st 20 prime no =  "
     ]
    }
   ],
   "source": [
    "def prime_generator():\n",
    "    for j in range(1,1001):\n",
    "        number = j\n",
    "        i = 2\n",
    "        factor = 0\n",
    "        while i < number:\n",
    "                if number%i== 0:\n",
    "                    factor +=1\n",
    "                    i+=1\n",
    "                    if factor == 0 and number > 1:\n",
    "                        yield number\n",
    " \n",
    " \n",
    "prime_no = prime_generator()\n",
    "print(\"1st 20 prime no = \", end=\" \")\n",
    "for j in range(1,21):\n",
    "    \n",
    "    print(next(prime_no), end=' ')\n"
   ]
  },
  {
   "cell_type": "code",
   "execution_count": null,
   "id": "670e0dc4-86f4-4f12-ba80-46da23aa55e6",
   "metadata": {},
   "outputs": [],
   "source": [
    " Q6. Write a python program to print the first 10 Fibonacci numbers using a while loop."
   ]
  },
  {
   "cell_type": "code",
   "execution_count": 96,
   "id": "63c83969-c23c-430f-a768-b54fb41b787f",
   "metadata": {},
   "outputs": [
    {
     "name": "stdout",
     "output_type": "stream",
     "text": [
      "0\n",
      "1\n",
      "1\n",
      "2\n",
      "3\n",
      "5\n",
      "8\n",
      "13\n",
      "21\n",
      "34\n",
      "55\n"
     ]
    }
   ],
   "source": [
    "a=0\n",
    "b=1\n",
    "print(a)\n",
    "print(b)\n",
    "i=1\n",
    "while i<10:\n",
    "    c=a+b\n",
    "    print(c)\n",
    "    a=b\n",
    "    b=c\n",
    "    i=i+1"
   ]
  },
  {
   "cell_type": "code",
   "execution_count": 97,
   "id": "69b3d2c6-5c04-4aef-b476-397843b194dd",
   "metadata": {},
   "outputs": [],
   "source": [
    " Q7. Write a List Comprehension to iterate through the given string: ‘pwskills’.\n",
    "Expected output: ['p', 'w', 's', 'k', 'i', 'l', 'l', 's']"
   ]
  },
  {
   "cell_type": "code",
   "execution_count": 99,
   "id": "47ef7001-69e4-46ac-8a63-a0be8fb181dd",
   "metadata": {},
   "outputs": [
    {
     "data": {
      "text/plain": [
       "['p', 'w', 's', 'k', 'i', 'l', 'l', 's']"
      ]
     },
     "execution_count": 99,
     "metadata": {},
     "output_type": "execute_result"
    }
   ],
   "source": [
    "strr='pwskills'\n",
    "[ i for i in strr]\n"
   ]
  },
  {
   "cell_type": "code",
   "execution_count": 100,
   "id": "2a766d76-f916-47bb-ba82-b9767de67f15",
   "metadata": {},
   "outputs": [],
   "source": [
    "Q8 Write a python program to check whether a given number is Palindrome or not using a while loop."
   ]
  },
  {
   "cell_type": "code",
   "execution_count": 108,
   "id": "70eaac6b-0f9f-4269-be49-99cf60aac605",
   "metadata": {},
   "outputs": [
    {
     "name": "stdin",
     "output_type": "stream",
     "text": [
      "Enter the number 151\n"
     ]
    },
    {
     "name": "stdout",
     "output_type": "stream",
     "text": [
      "151 it is palindrome number\n"
     ]
    }
   ],
   "source": [
    "n=int(input(\"Enter the number\"))\n",
    "temp=n\n",
    "s=0\n",
    "while n>0:\n",
    "    r=n%10\n",
    "    s=s*10+r\n",
    "    n=n//10\n",
    "if temp==s:\n",
    "    print(temp,\"it is palindrome number\")\n",
    "else:\n",
    "    print(temp,\"it is not palindrome number\")\n",
    "    "
   ]
  },
  {
   "cell_type": "code",
   "execution_count": 109,
   "id": "de235915-3796-461a-91b4-e89a0c61a6f3",
   "metadata": {},
   "outputs": [],
   "source": [
    "Q9. Write a code to print odd numbers from 1 to 100 using list comprehension."
   ]
  },
  {
   "cell_type": "code",
   "execution_count": 112,
   "id": "7ae82f83-54bc-4f1b-b214-6544a84e3377",
   "metadata": {},
   "outputs": [
    {
     "data": {
      "text/plain": [
       "[1,\n",
       " 3,\n",
       " 5,\n",
       " 7,\n",
       " 9,\n",
       " 11,\n",
       " 13,\n",
       " 15,\n",
       " 17,\n",
       " 19,\n",
       " 21,\n",
       " 23,\n",
       " 25,\n",
       " 27,\n",
       " 29,\n",
       " 31,\n",
       " 33,\n",
       " 35,\n",
       " 37,\n",
       " 39,\n",
       " 41,\n",
       " 43,\n",
       " 45,\n",
       " 47,\n",
       " 49,\n",
       " 51,\n",
       " 53,\n",
       " 55,\n",
       " 57,\n",
       " 59,\n",
       " 61,\n",
       " 63,\n",
       " 65,\n",
       " 67,\n",
       " 69,\n",
       " 71,\n",
       " 73,\n",
       " 75,\n",
       " 77,\n",
       " 79,\n",
       " 81,\n",
       " 83,\n",
       " 85,\n",
       " 87,\n",
       " 89,\n",
       " 91,\n",
       " 93,\n",
       " 95,\n",
       " 97,\n",
       " 99]"
      ]
     },
     "execution_count": 112,
     "metadata": {},
     "output_type": "execute_result"
    }
   ],
   "source": [
    "l=[]\n",
    "l=[i for i in range(1,100) if i%2!=0]\n",
    "l"
   ]
  },
  {
   "cell_type": "code",
   "execution_count": null,
   "id": "55e4bc88-f818-4359-b4af-81f7e345b30e",
   "metadata": {},
   "outputs": [],
   "source": []
  }
 ],
 "metadata": {
  "kernelspec": {
   "display_name": "Python 3 (ipykernel)",
   "language": "python",
   "name": "python3"
  },
  "language_info": {
   "codemirror_mode": {
    "name": "ipython",
    "version": 3
   },
   "file_extension": ".py",
   "mimetype": "text/x-python",
   "name": "python",
   "nbconvert_exporter": "python",
   "pygments_lexer": "ipython3",
   "version": "3.10.8"
  }
 },
 "nbformat": 4,
 "nbformat_minor": 5
}
